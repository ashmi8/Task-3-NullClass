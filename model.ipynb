{
 "cells": [
  {
   "cell_type": "markdown",
   "metadata": {},
   "source": [
    "# Animal Classification Model Training"
   ]
  },
  {
   "cell_type": "markdown",
   "metadata": {},
   "source": [
    "# 1. Explanation:\n",
    "## Imports:\n",
    "Imports necessary libraries including TensorFlow, ImageDataGenerator for data augmentation, and train_test_split from scikit-learn.\n",
    "\n",
    "## Data Loading and Preprocessing:\n",
    "Defines dataset_dir as the path to your dataset directory and sets image_size and batch_size.\n",
    "Creates an ImageDataGenerator for data augmentation and normalization.\n",
    "\n",
    "## Loading Data:\n",
    "Loads data using flow_from_directory method of ImageDataGenerator for generating batches of augmented data.\n",
    "\n",
    "## Splitting Data:\n",
    "Splits the loaded data into training and validation sets using train_test_split.\n",
    "\n",
    "## Verification:\n",
    "Prints shapes of training and validation data for verification purposes."
   ]
  },
  {
   "cell_type": "code",
   "execution_count": 12,
   "metadata": {},
   "outputs": [
    {
     "name": "stdout",
     "output_type": "stream",
     "text": [
      "Found 20947 images belonging to 10 classes.\n",
      "Found 5232 images belonging to 10 classes.\n",
      "Epoch 1/20\n"
     ]
    },
    {
     "name": "stderr",
     "output_type": "stream",
     "text": [
      "c:\\Users\\Ashmi jha\\AppData\\Local\\Programs\\Python\\Python312\\Lib\\site-packages\\keras\\src\\trainers\\data_adapters\\py_dataset_adapter.py:121: UserWarning: Your `PyDataset` class should call `super().__init__(**kwargs)` in its constructor. `**kwargs` can include `workers`, `use_multiprocessing`, `max_queue_size`. Do not pass these arguments to `fit()`, as they will be ignored.\n",
      "  self._warn_if_super_not_called()\n"
     ]
    },
    {
     "name": "stdout",
     "output_type": "stream",
     "text": [
      "\u001b[1m654/654\u001b[0m \u001b[32m━━━━━━━━━━━━━━━━━━━━\u001b[0m\u001b[37m\u001b[0m \u001b[1m866s\u001b[0m 1s/step - accuracy: 0.1008 - loss: -11492208276406272.0000 - val_accuracy: 0.1003 - val_loss: -685697232522969088.0000\n",
      "Epoch 2/20\n",
      "\u001b[1m654/654\u001b[0m \u001b[32m━━━━━━━━━━━━━━━━━━━━\u001b[0m\u001b[37m\u001b[0m \u001b[1m1s\u001b[0m 316us/step - accuracy: 0.0625 - loss: -854436808136589312.0000 - val_accuracy: 0.0625 - val_loss: -603219017032794112.0000\n",
      "Epoch 3/20\n"
     ]
    },
    {
     "name": "stderr",
     "output_type": "stream",
     "text": [
      "c:\\Users\\Ashmi jha\\AppData\\Local\\Programs\\Python\\Python312\\Lib\\contextlib.py:158: UserWarning: Your input ran out of data; interrupting training. Make sure that your dataset or generator can generate at least `steps_per_epoch * epochs` batches. You may need to use the `.repeat()` function when building your dataset.\n",
      "  self.gen.throw(value)\n"
     ]
    },
    {
     "name": "stdout",
     "output_type": "stream",
     "text": [
      "\u001b[1m654/654\u001b[0m \u001b[32m━━━━━━━━━━━━━━━━━━━━\u001b[0m\u001b[37m\u001b[0m \u001b[1m875s\u001b[0m 1s/step - accuracy: 0.1020 - loss: -4459742857317580800.0000 - val_accuracy: 0.1001 - val_loss: -45246385624656642048.0000\n",
      "Epoch 4/20\n",
      "\u001b[1m654/654\u001b[0m \u001b[32m━━━━━━━━━━━━━━━━━━━━\u001b[0m\u001b[37m\u001b[0m \u001b[1m1s\u001b[0m 259us/step - accuracy: 0.0938 - loss: -42074791557778636800.0000 - val_accuracy: 0.1250 - val_loss: -47399071062167650304.0000\n",
      "Epoch 5/20\n",
      "\u001b[1m654/654\u001b[0m \u001b[32m━━━━━━━━━━━━━━━━━━━━\u001b[0m\u001b[37m\u001b[0m \u001b[1m869s\u001b[0m 1s/step - accuracy: 0.1023 - loss: -97419325068395151360.0000 - val_accuracy: 0.1001 - val_loss: -417197742065279041536.0000\n",
      "Epoch 6/20\n",
      "\u001b[1m654/654\u001b[0m \u001b[32m━━━━━━━━━━━━━━━━━━━━\u001b[0m\u001b[37m\u001b[0m \u001b[1m1s\u001b[0m 240us/step - accuracy: 0.0938 - loss: -379914516628231946240.0000 - val_accuracy: 0.1250 - val_loss: -370784699836761374720.0000\n",
      "Epoch 7/20\n",
      "\u001b[1m654/654\u001b[0m \u001b[32m━━━━━━━━━━━━━━━━━━━━\u001b[0m\u001b[37m\u001b[0m \u001b[1m858s\u001b[0m 1s/step - accuracy: 0.0988 - loss: -655266497801756868608.0000 - val_accuracy: 0.1005 - val_loss: -1830861867313809850368.0000\n",
      "Epoch 8/20\n",
      "\u001b[1m654/654\u001b[0m \u001b[32m━━━━━━━━━━━━━━━━━━━━\u001b[0m\u001b[37m\u001b[0m \u001b[1m1s\u001b[0m 268us/step - accuracy: 0.2500 - loss: -1870896897676296585216.0000 - val_accuracy: 0.0000e+00 - val_loss: -2484294766748529328128.0000\n",
      "Epoch 9/20\n",
      "\u001b[1m654/654\u001b[0m \u001b[32m━━━━━━━━━━━━━━━━━━━━\u001b[0m\u001b[37m\u001b[0m \u001b[1m851s\u001b[0m 1s/step - accuracy: 0.0975 - loss: -2477384274595306012672.0000 - val_accuracy: 0.1005 - val_loss: -5528990449529278955520.0000\n",
      "Epoch 10/20\n",
      "\u001b[1m654/654\u001b[0m \u001b[32m━━━━━━━━━━━━━━━━━━━━\u001b[0m\u001b[37m\u001b[0m \u001b[1m1s\u001b[0m 220us/step - accuracy: 0.0625 - loss: -7408823333291208736768.0000 - val_accuracy: 0.0000e+00 - val_loss: -2688222824425446178816.0000\n",
      "Epoch 11/20\n",
      "\u001b[1m654/654\u001b[0m \u001b[32m━━━━━━━━━━━━━━━━━━━━\u001b[0m\u001b[37m\u001b[0m \u001b[1m875s\u001b[0m 1s/step - accuracy: 0.1010 - loss: -6931310042500835573760.0000 - val_accuracy: 0.0997 - val_loss: -13182119425906548146176.0000\n",
      "Epoch 12/20\n",
      "\u001b[1m654/654\u001b[0m \u001b[32m━━━━━━━━━━━━━━━━━━━━\u001b[0m\u001b[37m\u001b[0m \u001b[1m1s\u001b[0m 224us/step - accuracy: 0.1250 - loss: -12194927009887214895104.0000 - val_accuracy: 0.2500 - val_loss: -7679153589773983023104.0000\n",
      "Epoch 13/20\n",
      "\u001b[1m654/654\u001b[0m \u001b[32m━━━━━━━━━━━━━━━━━━━━\u001b[0m\u001b[37m\u001b[0m \u001b[1m853s\u001b[0m 1s/step - accuracy: 0.1020 - loss: -15712139239671770120192.0000 - val_accuracy: 0.1003 - val_loss: -26830505528434018484224.0000\n",
      "Epoch 14/20\n",
      "\u001b[1m654/654\u001b[0m \u001b[32m━━━━━━━━━━━━━━━━━━━━\u001b[0m\u001b[37m\u001b[0m \u001b[1m1s\u001b[0m 272us/step - accuracy: 0.0625 - loss: -30991230353574102827008.0000 - val_accuracy: 0.0625 - val_loss: -29873644091643604762624.0000\n",
      "Epoch 15/20\n",
      "\u001b[1m654/654\u001b[0m \u001b[32m━━━━━━━━━━━━━━━━━━━━\u001b[0m\u001b[37m\u001b[0m \u001b[1m949s\u001b[0m 1s/step - accuracy: 0.1236 - loss: nan - val_accuracy: 0.1856 - val_loss: nan\n",
      "Epoch 16/20\n",
      "\u001b[1m654/654\u001b[0m \u001b[32m━━━━━━━━━━━━━━━━━━━━\u001b[0m\u001b[37m\u001b[0m \u001b[1m1s\u001b[0m 243us/step - accuracy: 0.2812 - loss: nan - val_accuracy: 0.2500 - val_loss: nan\n",
      "Epoch 17/20\n",
      "\u001b[1m654/654\u001b[0m \u001b[32m━━━━━━━━━━━━━━━━━━━━\u001b[0m\u001b[37m\u001b[0m \u001b[1m794s\u001b[0m 1s/step - accuracy: 0.1890 - loss: nan - val_accuracy: 0.1860 - val_loss: nan\n",
      "Epoch 18/20\n",
      "\u001b[1m654/654\u001b[0m \u001b[32m━━━━━━━━━━━━━━━━━━━━\u001b[0m\u001b[37m\u001b[0m \u001b[1m1s\u001b[0m 227us/step - accuracy: 0.3125 - loss: nan - val_accuracy: 0.1250 - val_loss: nan\n",
      "Epoch 19/20\n",
      "\u001b[1m654/654\u001b[0m \u001b[32m━━━━━━━━━━━━━━━━━━━━\u001b[0m\u001b[37m\u001b[0m \u001b[1m781s\u001b[0m 1s/step - accuracy: 0.1862 - loss: nan - val_accuracy: 0.1858 - val_loss: nan\n",
      "Epoch 20/20\n",
      "\u001b[1m654/654\u001b[0m \u001b[32m━━━━━━━━━━━━━━━━━━━━\u001b[0m\u001b[37m\u001b[0m \u001b[1m1s\u001b[0m 224us/step - accuracy: 0.2188 - loss: nan - val_accuracy: 0.1875 - val_loss: nan\n"
     ]
    }
   ],
   "source": [
    "import tensorflow as tf\n",
    "from tensorflow.keras.preprocessing.image import ImageDataGenerator\n",
    "\n",
    "# Define path and parameters\n",
    "data_dir = 'raw-img'\n",
    "batch_size = 32\n",
    "image_size = (224, 224)\n",
    "epochs = 20\n",
    "\n",
    "# Create ImageDataGenerator for data augmentation and normalization\n",
    "datagen = ImageDataGenerator(\n",
    "    rescale=1./255,\n",
    "    rotation_range=20,\n",
    "    width_shift_range=0.2,\n",
    "    height_shift_range=0.2,\n",
    "    shear_range=0.2,\n",
    "    zoom_range=0.2,\n",
    "    horizontal_flip=True,\n",
    "    validation_split=0.2  # 20% validation split\n",
    ")\n",
    "\n",
    "# Flow images in batches from directory with validation split\n",
    "train_generator = datagen.flow_from_directory(\n",
    "    data_dir,\n",
    "    target_size=image_size,\n",
    "    batch_size=batch_size,\n",
    "    class_mode='binary',  # Use 'binary' for binary classification (herbivore vs carnivore)\n",
    "    subset='training'  # Specify this is the training set\n",
    ")\n",
    "\n",
    "val_generator = datagen.flow_from_directory(\n",
    "    data_dir,\n",
    "    target_size=image_size,\n",
    "    batch_size=batch_size,\n",
    "    class_mode='binary',  # Use 'binary' for binary classification (herbivore vs carnivore)\n",
    "    subset='validation'  # Specify this is the validation set\n",
    ")\n",
    "\n",
    "# Define the model architecture\n",
    "model = tf.keras.Sequential([\n",
    "    tf.keras.layers.Conv2D(32, (3, 3), activation='relu', input_shape=(224, 224, 3)),\n",
    "    tf.keras.layers.MaxPooling2D((2, 2)),\n",
    "    tf.keras.layers.Conv2D(64, (3, 3), activation='relu'),\n",
    "    tf.keras.layers.MaxPooling2D((2, 2)),\n",
    "    tf.keras.layers.Conv2D(128, (3, 3), activation='relu'),\n",
    "    tf.keras.layers.MaxPooling2D((2, 2)),\n",
    "    tf.keras.layers.Conv2D(128, (3, 3), activation='relu'),\n",
    "    tf.keras.layers.MaxPooling2D((2, 2)),\n",
    "    tf.keras.layers.Flatten(),\n",
    "    tf.keras.layers.Dense(512, activation='relu'),\n",
    "    tf.keras.layers.Dense(1, activation='sigmoid')  # 1 unit for binary classification (sigmoid activation)\n",
    "])\n",
    "\n",
    "# Compile the model\n",
    "model.compile(optimizer='adam',\n",
    "              loss='binary_crossentropy',\n",
    "              metrics=['accuracy'])\n",
    "\n",
    "# Train the model\n",
    "history = model.fit(\n",
    "    train_generator,\n",
    "    steps_per_epoch=train_generator.samples // batch_size,\n",
    "    epochs=epochs,\n",
    "    validation_data=val_generator,\n",
    "    validation_steps=val_generator.samples // batch_size\n",
    ")\n"
   ]
  },
  {
   "cell_type": "markdown",
   "metadata": {},
   "source": [
    "# 2. Evaluate Model Performance"
   ]
  },
  {
   "cell_type": "code",
   "execution_count": 13,
   "metadata": {},
   "outputs": [
    {
     "name": "stdout",
     "output_type": "stream",
     "text": [
      "\u001b[1m655/655\u001b[0m \u001b[32m━━━━━━━━━━━━━━━━━━━━\u001b[0m\u001b[37m\u001b[0m \u001b[1m347s\u001b[0m 530ms/step - accuracy: 0.1890 - loss: nan\n",
      "Training Accuracy: 0.1858\n",
      "\u001b[1m164/164\u001b[0m \u001b[32m━━━━━━━━━━━━━━━━━━━━\u001b[0m\u001b[37m\u001b[0m \u001b[1m85s\u001b[0m 521ms/step - accuracy: 0.1906 - loss: nan\n",
      "Validation Accuracy: 0.1858\n"
     ]
    }
   ],
   "source": [
    "# Evaluate model on training data\n",
    "train_loss, train_acc = model.evaluate(train_generator, verbose=1)\n",
    "print(f'Training Accuracy: {train_acc:.4f}')\n",
    "\n",
    "# Evaluate model on validation data\n",
    "val_loss, val_acc = model.evaluate(val_generator, verbose=1)\n",
    "print(f'Validation Accuracy: {val_acc:.4f}')\n"
   ]
  },
  {
   "cell_type": "markdown",
   "metadata": {},
   "source": [
    "# 3. Make Predictions"
   ]
  },
  {
   "cell_type": "code",
   "execution_count": 14,
   "metadata": {},
   "outputs": [
    {
     "name": "stdout",
     "output_type": "stream",
     "text": [
      "\u001b[1m164/164\u001b[0m \u001b[32m━━━━━━━━━━━━━━━━━━━━\u001b[0m\u001b[37m\u001b[0m \u001b[1m82s\u001b[0m 499ms/step\n",
      "Prediction: [nan], Actual: 0\n",
      "Prediction: [nan], Actual: 0\n",
      "Prediction: [nan], Actual: 0\n",
      "Prediction: [nan], Actual: 0\n",
      "Prediction: [nan], Actual: 0\n"
     ]
    }
   ],
   "source": [
    "# Make predictions on validation data\n",
    "predictions = model.predict(val_generator)\n",
    "\n",
    "# Example: Print first few predictions\n",
    "for i in range(5):\n",
    "    print(f'Prediction: {predictions[i]}, Actual: {val_generator.labels[i]}')\n"
   ]
  },
  {
   "cell_type": "markdown",
   "metadata": {},
   "source": [
    "# 4. Save the Model"
   ]
  },
  {
   "cell_type": "code",
   "execution_count": 15,
   "metadata": {},
   "outputs": [
    {
     "name": "stderr",
     "output_type": "stream",
     "text": [
      "WARNING:absl:You are saving your model as an HDF5 file via `model.save()` or `keras.saving.save_model(model)`. This file format is considered legacy. We recommend using instead the native Keras format, e.g. `model.save('my_model.keras')` or `keras.saving.save_model(model, 'my_model.keras')`. \n"
     ]
    }
   ],
   "source": [
    "# Save the model\n",
    "model.save('animal_classifier_model.h5')\n"
   ]
  }
 ],
 "metadata": {
  "kernelspec": {
   "display_name": "Python 3",
   "language": "python",
   "name": "python3"
  },
  "language_info": {
   "codemirror_mode": {
    "name": "ipython",
    "version": 3
   },
   "file_extension": ".py",
   "mimetype": "text/x-python",
   "name": "python",
   "nbconvert_exporter": "python",
   "pygments_lexer": "ipython3",
   "version": "3.12.3"
  }
 },
 "nbformat": 4,
 "nbformat_minor": 2
}
